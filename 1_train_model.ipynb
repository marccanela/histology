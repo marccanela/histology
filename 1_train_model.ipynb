{
 "cells": [
  {
   "cell_type": "markdown",
   "metadata": {},
   "source": [
    "# Train a new model"
   ]
  },
  {
   "cell_type": "code",
   "execution_count": null,
   "metadata": {},
   "outputs": [],
   "source": [
    "import pickle as pkl\n",
    "from master_script import train_model\n",
    "from master_script import plot_correlation"
   ]
  },
  {
   "cell_type": "code",
   "execution_count": null,
   "metadata": {},
   "outputs": [],
   "source": [
    "# Enter the directory where you store your .ND2 images and your roi_dict.pkl\n",
    "directory = '//folder/becell/Macro tests/images_cfos/'"
   ]
  },
  {
   "cell_type": "code",
   "execution_count": null,
   "metadata": {},
   "outputs": [],
   "source": [
    "# Import your ROIs\n",
    "with open(directory + 'dict_rois.pkl', 'rb') as file:\n",
    "    dict_rois = pkl.load(file)"
   ]
  },
  {
   "cell_type": "code",
   "execution_count": null,
   "metadata": {},
   "outputs": [],
   "source": [
    "# Create a dictionary with the names of the .ND2 images and the manual countings\n",
    "actual_values = {\n",
    "    'Male_1_ca3_001': 68,\n",
    "    'Male_1_Cg_001': 225,\n",
    "    'Male_1_Cg_002': 153.5,\n",
    "    'Male_1_dg_001': 88,\n",
    "    'Male_1_dg_002': 92.5,\n",
    "    'Male_1_PFC_003': 164,\n",
    "    'Male_1_RSC_001': 136.5,\n",
    "    'Male_1_RSC_002': 162.5,\n",
    "    'Male_4_ca3_003': 69,\n",
    "    'Male_4_ca3_004': 56.5,\n",
    "    'Male_4_Cg_003': 103,\n",
    "    'Male_4_Cg_004': 150,\n",
    "    'Male_4_dg_003': 46.5,\n",
    "    'Male_4_PFC_002': 175.5,\n",
    "    'Male_4_PFC_003': 74.5,\n",
    "    'Male_4_PFC_006': 148,\n",
    "    'Male_4_RSC_001': 123.5,\n",
    "    'noshock_13_hip_003': 61,\n",
    "    'noshock_17_bla_005': 77,\n",
    "    'noshock_17_cg_001': 322,\n",
    "    'noshock_17_cg_003': 597,\n",
    "    'paired_2_hip_002': 83,\n",
    "    'paired_2_hip_003': 75,\n",
    "    'paired_6_bla_002': 63,\n",
    "    'paired_6_cg_003': 446,\n",
    "    'paired_6_hip_004': 63,\n",
    "    'unpaired_7_bla_003': 102,\n",
    "    }"
   ]
  },
  {
   "cell_type": "code",
   "execution_count": null,
   "metadata": {},
   "outputs": [],
   "source": [
    "# Now just run the function to train the model and save your output\n",
    "_, best_hyperparameters, best_predicted_values = train_model(dict_rois, actual_values, layer = 'layer_1', ratio = 1.55)\n",
    "with open(directory + 'best_hyperparameters.pkl', 'wb') as file:\n",
    "    pkl.dump(best_hyperparameters, file)"
   ]
  },
  {
   "cell_type": "code",
   "execution_count": null,
   "metadata": {},
   "outputs": [],
   "source": [
    "# You can optionally plot the correlation\n",
    "plot_correlation(actual_values, best_predicted_values)"
   ]
  }
 ],
 "metadata": {
  "kernelspec": {
   "display_name": "Python 3",
   "language": "python",
   "name": "python3"
  },
  "language_info": {
   "codemirror_mode": {
    "name": "ipython",
    "version": 3
   },
   "file_extension": ".py",
   "mimetype": "text/x-python",
   "name": "python",
   "nbconvert_exporter": "python",
   "pygments_lexer": "ipython3",
   "version": "3.9.18"
  }
 },
 "nbformat": 4,
 "nbformat_minor": 2
}
