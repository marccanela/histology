{
 "cells": [
  {
   "cell_type": "markdown",
   "metadata": {},
   "source": [
    "# Train a new model"
   ]
  },
  {
   "cell_type": "code",
   "execution_count": null,
   "metadata": {},
   "outputs": [],
   "source": [
    "import pickle as pkl\n",
    "from master_script import train_model"
   ]
  },
  {
   "cell_type": "code",
   "execution_count": null,
   "metadata": {},
   "outputs": [],
   "source": [
    "# Enter the directory where you store your .ND2 images and your roi_dict.pkl\n",
    "directory = 'C:/Users/mcanela/Desktop/nd2_images/'"
   ]
  },
  {
   "cell_type": "code",
   "execution_count": null,
   "metadata": {},
   "outputs": [],
   "source": [
    "# Import your ROIs\n",
    "with open(directory + 'dict_rois.pkl', 'rb') as file:\n",
    "    dict_rois = pkl.load(file)"
   ]
  },
  {
   "cell_type": "code",
   "execution_count": null,
   "metadata": {},
   "outputs": [],
   "source": [
    "# Create a dictionary with the names of the .ND2 images and the manual countings\n",
    "actual_values = {\n",
    "    '24003_10X_PVT_001': 51,\n",
    "    '24003_10X_PVT_002': 35.7,\n",
    "    '26426_10X_PVT_': 17.3,\n",
    "    '26426_10X_PVT_001': 33,\n",
    "    'Male_1_ca3_001': 68,\n",
    "    'Male_1_Cg_001': 225,\n",
    "    'Male_1_Cg_002': 153.5,\n",
    "    'Male_1_dg_001': 88,\n",
    "    'Male_1_dg_002': 92.5,\n",
    "    'Male_1_PFC_003': 164,\n",
    "    'Male_1_RSC_001': 136.5,\n",
    "    'Male_1_RSC_002': 162.5,\n",
    "    'Male_4_ca3_003': 69,\n",
    "    'Male_4_ca3_004': 56.5,\n",
    "    'Male_4_Cg_003': 103,\n",
    "    'Male_4_Cg_004': 150,\n",
    "    'Male_4_dg_003': 46.5,\n",
    "    'Male_4_PFC_002': 175.5,\n",
    "    'Male_4_PFC_003': 74.5,\n",
    "    'Male_4_PFC_006': 148,\n",
    "    'Male_4_RSC_001': 123.5,\n",
    "    }"
   ]
  },
  {
   "cell_type": "code",
   "execution_count": null,
   "metadata": {},
   "outputs": [],
   "source": [
    "# Now just run the function to train the model\n",
    "best_loss, best_hyperparameters, best_predicted_values = train_model(dict_rois, \n",
    "                                                                actual_values,\n",
    "                                                                layer = 'layer_1', # The layer contaning your marker (e.g., 'layer_0', 'layer_1', etc.)\n",
    "                                                                ratio = 1.55, # px/µm\n",
    "                                                                    )"
   ]
  },
  {
   "cell_type": "code",
   "execution_count": null,
   "metadata": {},
   "outputs": [],
   "source": [
    "# You can optionally plot the correlation"
   ]
  },
  {
   "cell_type": "code",
   "execution_count": null,
   "metadata": {},
   "outputs": [],
   "source": [
    "# You can optionally generate the metrics"
   ]
  },
  {
   "cell_type": "code",
   "execution_count": null,
   "metadata": {},
   "outputs": [],
   "source": [
    "# Save your optimized hyperparameters\n",
    "with open(directory + 'best_hyperparameters.pkl', 'wb') as file:\n",
    "    pkl.dump(best_hyperparameters, file)"
   ]
  }
 ],
 "metadata": {
  "kernelspec": {
   "display_name": "Python 3",
   "language": "python",
   "name": "python3"
  },
  "language_info": {
   "name": "python",
   "version": "3.9.18"
  }
 },
 "nbformat": 4,
 "nbformat_minor": 2
}
