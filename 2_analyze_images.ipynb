{
 "cells": [
  {
   "cell_type": "markdown",
   "metadata": {},
   "source": [
    "# Analyze images"
   ]
  },
  {
   "cell_type": "code",
   "execution_count": null,
   "metadata": {},
   "outputs": [],
   "source": [
    "import pickle as pkl\n",
    "from master_script import analyze_images"
   ]
  },
  {
   "cell_type": "code",
   "execution_count": null,
   "metadata": {},
   "outputs": [],
   "source": [
    "# Enter the directory where you store your .ND2 images, your roi_dict.pkl, and the best_hyperparameters.pkl\n",
    "directory = '//folder/becell/Macro tests/images_cfos/'"
   ]
  },
  {
   "cell_type": "code",
   "execution_count": null,
   "metadata": {},
   "outputs": [],
   "source": [
    "# Import your ROIs and hyperparameters\n",
    "with open(directory + 'dict_rois.pkl', 'rb') as file:\n",
    "    dict_rois = pkl.load(file)\n",
    "with open(directory + 'hyperparameters_cfos.pkl', 'rb') as file:\n",
    "    hyperparameters_cfos = pkl.load(file)"
   ]
  },
  {
   "cell_type": "code",
   "execution_count": null,
   "metadata": {},
   "outputs": [],
   "source": [
    "# Create a dictionary indicating which hyperparameters correspond to each layer\n",
    "layer_dict = {\n",
    "    'layer_1': hyperparameters_cfos\n",
    "}"
   ]
  },
  {
   "cell_type": "code",
   "execution_count": null,
   "metadata": {},
   "outputs": [],
   "source": [
    "# Run the function to analyze your images\n",
    "analyze_images(dict_rois, directory, layer_dict, ratio=1.55)"
   ]
  }
 ],
 "metadata": {
  "language_info": {
   "name": "python"
  }
 },
 "nbformat": 4,
 "nbformat_minor": 2
}
